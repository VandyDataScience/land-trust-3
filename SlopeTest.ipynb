{
 "cells": [
  {
   "cell_type": "code",
   "execution_count": null,
   "id": "initial_id",
   "metadata": {
    "collapsed": true
   },
   "outputs": [],
   "source": [
    "import pandas as pd\n",
    "import numpy as np\n",
    "import rasterio"
   ]
  },
  {
   "cell_type": "code",
   "outputs": [],
   "source": [
    "with rasterio.open('data/slope.tif') as ds:\n",
    "    data = ds.read(1)"
   ],
   "metadata": {
    "collapsed": false
   },
   "id": "a2fbdf890d86ef66",
   "execution_count": null
  },
  {
   "cell_type": "code",
   "outputs": [],
   "source": [
    "print(data)"
   ],
   "metadata": {
    "collapsed": false
   },
   "id": "73d391e7441af18d",
   "execution_count": null
  },
  {
   "cell_type": "code",
   "outputs": [],
   "source": [
    "data[data <= 0] = 0"
   ],
   "metadata": {
    "collapsed": false
   },
   "id": "b0eb05bfdc73de9a",
   "execution_count": null
  },
  {
   "cell_type": "code",
   "outputs": [],
   "source": [
    "data.shape[0] * data.shape[1]"
   ],
   "metadata": {
    "collapsed": false
   },
   "id": "c56361cb3275eff9",
   "execution_count": null
  },
  {
   "cell_type": "code",
   "outputs": [],
   "source": [
    "min_val = np.min(data)\n",
    "max_val = np.max(data)\n",
    "min_val, max_val"
   ],
   "metadata": {
    "collapsed": false
   },
   "id": "6524e1995009609",
   "execution_count": null
  },
  {
   "cell_type": "code",
   "outputs": [],
   "source": [
    "data[10000:10100, 20000:20100]"
   ],
   "metadata": {
    "collapsed": false
   },
   "id": "5f7343e04b279908",
   "execution_count": null
  },
  {
   "cell_type": "code",
   "outputs": [],
   "source": [],
   "metadata": {
    "collapsed": false
   },
   "id": "3014d9323e9ab7fd"
  }
 ],
 "metadata": {
  "kernelspec": {
   "display_name": "Python 3",
   "language": "python",
   "name": "python3"
  },
  "language_info": {
   "codemirror_mode": {
    "name": "ipython",
    "version": 2
   },
   "file_extension": ".py",
   "mimetype": "text/x-python",
   "name": "python",
   "nbconvert_exporter": "python",
   "pygments_lexer": "ipython2",
   "version": "2.7.6"
  }
 },
 "nbformat": 4,
 "nbformat_minor": 5
}
