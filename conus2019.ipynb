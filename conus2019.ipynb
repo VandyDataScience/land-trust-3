{
 "cells": [
  {
   "cell_type": "markdown",
   "metadata": {},
   "source": [
    "# Reading in the CONUS 2019 Raster Data Using Rasterio"
   ]
  },
  {
   "cell_type": "markdown",
   "metadata": {},
   "source": [
    "## Import modules"
   ]
  },
  {
   "cell_type": "code",
   "execution_count": 8,
   "metadata": {},
   "outputs": [],
   "source": [
    "import rasterio\n",
    "import numpy as np"
   ]
  },
  {
   "cell_type": "markdown",
   "metadata": {},
   "source": [
    "## Reading in raster data as Numpy array"
   ]
  },
  {
   "cell_type": "code",
   "execution_count": 9,
   "metadata": {},
   "outputs": [
    {
     "name": "stdout",
     "output_type": "stream",
     "text": [
      "(1, 17975, 35165)\n",
      "632090875\n"
     ]
    }
   ],
   "source": [
    "with rasterio.open(\n",
    "    \"C:/Users/stevenysy/Desktop/VDS-Team-Data-Share/VDS Team Data Share/CONUS2019_ClipAOI.tif\",  # Need to change path later\n",
    "    \"r\",\n",
    ") as ds:\n",
    "    arr = ds.read()\n",
    "\n",
    "\n",
    "print(arr.shape)  # The array's dimensions, in the format (band, row, col)\n",
    "print(arr.size)"
   ]
  },
  {
   "cell_type": "markdown",
   "metadata": {},
   "source": [
    "We are not interested in the band since we only have one, so we will discard that dimension"
   ]
  },
  {
   "cell_type": "code",
   "execution_count": 10,
   "metadata": {},
   "outputs": [
    {
     "data": {
      "text/plain": [
       "(17975, 35165)"
      ]
     },
     "execution_count": 10,
     "metadata": {},
     "output_type": "execute_result"
    }
   ],
   "source": [
    "data = arr[0]\n",
    "data.shape"
   ]
  },
  {
   "cell_type": "markdown",
   "metadata": {},
   "source": [
    "Printing out the attribute table, we see that it aligns with the attribute table seen in ArcGIS"
   ]
  },
  {
   "cell_type": "code",
   "execution_count": 18,
   "metadata": {},
   "outputs": [
    {
     "name": "stdout",
     "output_type": "stream",
     "text": [
      "[[        0 220724991]\n",
      " [       11   8471189]\n",
      " [       21  22137713]\n",
      " [       22  10743946]\n",
      " [       23   5061949]\n",
      " [       24   1799050]\n",
      " [       31    767390]\n",
      " [       41 146546133]\n",
      " [       42  18184425]\n",
      " [       43  37906619]\n",
      " [       52   5864669]\n",
      " [       71   5075786]\n",
      " [       81  66465940]\n",
      " [       82  66194708]\n",
      " [       90  14991273]\n",
      " [       95   1155094]]\n"
     ]
    }
   ],
   "source": [
    "unique, counts = np.unique(arr, return_counts=True)\n",
    "attribute_table = np.asarray((unique, counts)).T\n",
    "\n",
    "print(attribute_table)"
   ]
  },
  {
   "cell_type": "code",
   "execution_count": 12,
   "metadata": {},
   "outputs": [
    {
     "data": {
      "text/plain": [
       "23"
      ]
     },
     "execution_count": 12,
     "metadata": {},
     "output_type": "execute_result"
    }
   ],
   "source": [
    "# Picking a random point\n",
    "data[7000][17000]"
   ]
  },
  {
   "cell_type": "code",
   "execution_count": null,
   "metadata": {},
   "outputs": [],
   "source": []
  }
 ],
 "metadata": {
  "kernelspec": {
   "display_name": "Python 3",
   "language": "python",
   "name": "python3"
  },
  "language_info": {
   "codemirror_mode": {
    "name": "ipython",
    "version": 3
   },
   "file_extension": ".py",
   "mimetype": "text/x-python",
   "name": "python",
   "nbconvert_exporter": "python",
   "pygments_lexer": "ipython3",
   "version": "3.11.4"
  },
  "orig_nbformat": 4
 },
 "nbformat": 4,
 "nbformat_minor": 2
}
