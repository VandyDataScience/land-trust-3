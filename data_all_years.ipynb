{
 "cells": [
  {
   "cell_type": "markdown",
   "metadata": {},
   "source": [
    "# Processing CONUS data from all years"
   ]
  },
  {
   "cell_type": "code",
   "execution_count": 16,
   "metadata": {},
   "outputs": [],
   "source": [
    "import pandas as pd\n",
    "import numpy as np\n",
    "import rasterio"
   ]
  },
  {
   "cell_type": "markdown",
   "metadata": {},
   "source": [
    "## 1. Read in data from all years"
   ]
  },
  {
   "cell_type": "markdown",
   "metadata": {},
   "source": [
    "First, we will store the land cover value for each pixel in the raster in a dataframe, with each row being a pixel and the pixel's land cover value in different years in columns"
   ]
  },
  {
   "cell_type": "code",
   "execution_count": 17,
   "metadata": {},
   "outputs": [],
   "source": [
    "# Dataframe to hold the data from all years\n",
    "conus_data = pd.DataFrame()\n",
    "\n",
    "# Years of the data\n",
    "years = [\"2001\", \"2004\", \"2006\", \"2008\", \"2011\", \"2013\", \"2016\", \"2019\"]\n",
    "\n",
    "# Flatten the raster data for each year into a 1darray and store it as a column in the dataframe\n",
    "for year in years:\n",
    "    with rasterio.open(f\"./data/CONUS{year}_ClipAOI.tif\", \"r\") as ds:\n",
    "        data = ds.read(1)\n",
    "        conus_data[year] = data.ravel()"
   ]
  },
  {
   "cell_type": "markdown",
   "metadata": {},
   "source": [
    "Next, we need to store the x and y coordinates of each pixel into the dataframe"
   ]
  },
  {
   "cell_type": "code",
   "execution_count": 18,
   "metadata": {},
   "outputs": [
    {
     "data": {
      "text/plain": [
       "(array([[    0,     0,     0, ...,     0,     0,     0],\n",
       "        [    1,     1,     1, ...,     1,     1,     1],\n",
       "        [    2,     2,     2, ...,     2,     2,     2],\n",
       "        ...,\n",
       "        [17972, 17972, 17972, ..., 17972, 17972, 17972],\n",
       "        [17973, 17973, 17973, ..., 17973, 17973, 17973],\n",
       "        [17974, 17974, 17974, ..., 17974, 17974, 17974]]),\n",
       " array([[    0,     1,     2, ..., 35162, 35163, 35164],\n",
       "        [    0,     1,     2, ..., 35162, 35163, 35164],\n",
       "        [    0,     1,     2, ..., 35162, 35163, 35164],\n",
       "        ...,\n",
       "        [    0,     1,     2, ..., 35162, 35163, 35164],\n",
       "        [    0,     1,     2, ..., 35162, 35163, 35164],\n",
       "        [    0,     1,     2, ..., 35162, 35163, 35164]]))"
      ]
     },
     "execution_count": 18,
     "metadata": {},
     "output_type": "execute_result"
    }
   ],
   "source": [
    "with rasterio.open(\"./data/CONUS2019_ClipAOI.tif\", \"r\") as ds:\n",
    "    data = ds.read(1)\n",
    "    conus_data[\"2019\"] = data.ravel()\n",
    "\n",
    "    height = data.shape[0]\n",
    "    width = data.shape[1]\n",
    "\n",
    "    # Create a 2d array for X and Y indices\n",
    "    cols, rows = np.meshgrid(np.arange(width), np.arange(height))\n",
    "\n",
    "    # The following code gets the x and y coordinates of each pixel instead of the x y indices, which may be useful afterwards\n",
    "    # xs, ys = rasterio.transform.xy(ds.transform, rows, cols)\n",
    "    # xcoords = np.array(xs)\n",
    "    # ycoords = np.array(ys)\n",
    "\n",
    "rows, cols"
   ]
  },
  {
   "cell_type": "code",
   "execution_count": 19,
   "metadata": {},
   "outputs": [
    {
     "data": {
      "text/html": [
       "<div>\n",
       "<style scoped>\n",
       "    .dataframe tbody tr th:only-of-type {\n",
       "        vertical-align: middle;\n",
       "    }\n",
       "\n",
       "    .dataframe tbody tr th {\n",
       "        vertical-align: top;\n",
       "    }\n",
       "\n",
       "    .dataframe thead th {\n",
       "        text-align: right;\n",
       "    }\n",
       "</style>\n",
       "<table border=\"1\" class=\"dataframe\">\n",
       "  <thead>\n",
       "    <tr style=\"text-align: right;\">\n",
       "      <th></th>\n",
       "      <th>2001</th>\n",
       "      <th>2004</th>\n",
       "      <th>2006</th>\n",
       "      <th>2008</th>\n",
       "      <th>2011</th>\n",
       "      <th>2013</th>\n",
       "      <th>2016</th>\n",
       "      <th>2019</th>\n",
       "      <th>X_index</th>\n",
       "      <th>Y_index</th>\n",
       "    </tr>\n",
       "  </thead>\n",
       "  <tbody>\n",
       "    <tr>\n",
       "      <th>0</th>\n",
       "      <td>0</td>\n",
       "      <td>0</td>\n",
       "      <td>0</td>\n",
       "      <td>0</td>\n",
       "      <td>0</td>\n",
       "      <td>0</td>\n",
       "      <td>0</td>\n",
       "      <td>0</td>\n",
       "      <td>0</td>\n",
       "      <td>0</td>\n",
       "    </tr>\n",
       "    <tr>\n",
       "      <th>1</th>\n",
       "      <td>0</td>\n",
       "      <td>0</td>\n",
       "      <td>0</td>\n",
       "      <td>0</td>\n",
       "      <td>0</td>\n",
       "      <td>0</td>\n",
       "      <td>0</td>\n",
       "      <td>0</td>\n",
       "      <td>0</td>\n",
       "      <td>1</td>\n",
       "    </tr>\n",
       "    <tr>\n",
       "      <th>2</th>\n",
       "      <td>0</td>\n",
       "      <td>0</td>\n",
       "      <td>0</td>\n",
       "      <td>0</td>\n",
       "      <td>0</td>\n",
       "      <td>0</td>\n",
       "      <td>0</td>\n",
       "      <td>0</td>\n",
       "      <td>0</td>\n",
       "      <td>2</td>\n",
       "    </tr>\n",
       "    <tr>\n",
       "      <th>3</th>\n",
       "      <td>0</td>\n",
       "      <td>0</td>\n",
       "      <td>0</td>\n",
       "      <td>0</td>\n",
       "      <td>0</td>\n",
       "      <td>0</td>\n",
       "      <td>0</td>\n",
       "      <td>0</td>\n",
       "      <td>0</td>\n",
       "      <td>3</td>\n",
       "    </tr>\n",
       "    <tr>\n",
       "      <th>4</th>\n",
       "      <td>0</td>\n",
       "      <td>0</td>\n",
       "      <td>0</td>\n",
       "      <td>0</td>\n",
       "      <td>0</td>\n",
       "      <td>0</td>\n",
       "      <td>0</td>\n",
       "      <td>0</td>\n",
       "      <td>0</td>\n",
       "      <td>4</td>\n",
       "    </tr>\n",
       "  </tbody>\n",
       "</table>\n",
       "</div>"
      ],
      "text/plain": [
       "   2001  2004  2006  2008  2011  2013  2016  2019  X_index  Y_index\n",
       "0     0     0     0     0     0     0     0     0        0        0\n",
       "1     0     0     0     0     0     0     0     0        0        1\n",
       "2     0     0     0     0     0     0     0     0        0        2\n",
       "3     0     0     0     0     0     0     0     0        0        3\n",
       "4     0     0     0     0     0     0     0     0        0        4"
      ]
     },
     "execution_count": 19,
     "metadata": {},
     "output_type": "execute_result"
    }
   ],
   "source": [
    "# Flatten the indices 2d arrays and add them as columns in the dataframe\n",
    "conus_data[\"X_index\"] = rows.ravel()\n",
    "conus_data[\"Y_index\"] = cols.ravel()\n",
    "\n",
    "\n",
    "\n",
    "conus_data.head()"
   ]
  },
  {
   "cell_type": "code",
   "execution_count": 20,
   "metadata": {},
   "outputs": [
    {
     "data": {
      "text/html": [
       "<div>\n",
       "<style scoped>\n",
       "    .dataframe tbody tr th:only-of-type {\n",
       "        vertical-align: middle;\n",
       "    }\n",
       "\n",
       "    .dataframe tbody tr th {\n",
       "        vertical-align: top;\n",
       "    }\n",
       "\n",
       "    .dataframe thead th {\n",
       "        text-align: right;\n",
       "    }\n",
       "</style>\n",
       "<table border=\"1\" class=\"dataframe\">\n",
       "  <thead>\n",
       "    <tr style=\"text-align: right;\">\n",
       "      <th></th>\n",
       "      <th>2001</th>\n",
       "      <th>2004</th>\n",
       "      <th>2006</th>\n",
       "      <th>2008</th>\n",
       "      <th>2011</th>\n",
       "      <th>2013</th>\n",
       "      <th>2016</th>\n",
       "      <th>2019</th>\n",
       "      <th>X_index</th>\n",
       "      <th>Y_index</th>\n",
       "    </tr>\n",
       "  </thead>\n",
       "  <tbody>\n",
       "    <tr>\n",
       "      <th>157098026</th>\n",
       "      <td>41</td>\n",
       "      <td>43</td>\n",
       "      <td>41</td>\n",
       "      <td>43</td>\n",
       "      <td>41</td>\n",
       "      <td>43</td>\n",
       "      <td>43</td>\n",
       "      <td>43</td>\n",
       "      <td>4467</td>\n",
       "      <td>15971</td>\n",
       "    </tr>\n",
       "    <tr>\n",
       "      <th>177641402</th>\n",
       "      <td>81</td>\n",
       "      <td>81</td>\n",
       "      <td>81</td>\n",
       "      <td>81</td>\n",
       "      <td>81</td>\n",
       "      <td>81</td>\n",
       "      <td>81</td>\n",
       "      <td>81</td>\n",
       "      <td>5051</td>\n",
       "      <td>22987</td>\n",
       "    </tr>\n",
       "    <tr>\n",
       "      <th>439137709</th>\n",
       "      <td>0</td>\n",
       "      <td>0</td>\n",
       "      <td>0</td>\n",
       "      <td>0</td>\n",
       "      <td>0</td>\n",
       "      <td>0</td>\n",
       "      <td>0</td>\n",
       "      <td>0</td>\n",
       "      <td>12487</td>\n",
       "      <td>32354</td>\n",
       "    </tr>\n",
       "    <tr>\n",
       "      <th>188862206</th>\n",
       "      <td>43</td>\n",
       "      <td>43</td>\n",
       "      <td>43</td>\n",
       "      <td>43</td>\n",
       "      <td>43</td>\n",
       "      <td>43</td>\n",
       "      <td>43</td>\n",
       "      <td>43</td>\n",
       "      <td>5370</td>\n",
       "      <td>26156</td>\n",
       "    </tr>\n",
       "    <tr>\n",
       "      <th>120056073</th>\n",
       "      <td>0</td>\n",
       "      <td>0</td>\n",
       "      <td>0</td>\n",
       "      <td>0</td>\n",
       "      <td>0</td>\n",
       "      <td>0</td>\n",
       "      <td>0</td>\n",
       "      <td>0</td>\n",
       "      <td>3414</td>\n",
       "      <td>2763</td>\n",
       "    </tr>\n",
       "  </tbody>\n",
       "</table>\n",
       "</div>"
      ],
      "text/plain": [
       "           2001  2004  2006  2008  2011  2013  2016  2019  X_index  Y_index\n",
       "157098026    41    43    41    43    41    43    43    43     4467    15971\n",
       "177641402    81    81    81    81    81    81    81    81     5051    22987\n",
       "439137709     0     0     0     0     0     0     0     0    12487    32354\n",
       "188862206    43    43    43    43    43    43    43    43     5370    26156\n",
       "120056073     0     0     0     0     0     0     0     0     3414     2763"
      ]
     },
     "execution_count": 20,
     "metadata": {},
     "output_type": "execute_result"
    }
   ],
   "source": [
    "# Test if indices match the pixels correctly\n",
    "conus_data.sample(5)"
   ]
  },
  {
   "cell_type": "markdown",
   "metadata": {},
   "source": [
    "Then, we will drop the pixels with no data (pixels that have 0 as value)"
   ]
  },
  {
   "cell_type": "code",
   "execution_count": 21,
   "metadata": {},
   "outputs": [
    {
     "data": {
      "text/html": [
       "<div>\n",
       "<style scoped>\n",
       "    .dataframe tbody tr th:only-of-type {\n",
       "        vertical-align: middle;\n",
       "    }\n",
       "\n",
       "    .dataframe tbody tr th {\n",
       "        vertical-align: top;\n",
       "    }\n",
       "\n",
       "    .dataframe thead th {\n",
       "        text-align: right;\n",
       "    }\n",
       "</style>\n",
       "<table border=\"1\" class=\"dataframe\">\n",
       "  <thead>\n",
       "    <tr style=\"text-align: right;\">\n",
       "      <th></th>\n",
       "      <th>2001</th>\n",
       "      <th>2004</th>\n",
       "      <th>2006</th>\n",
       "      <th>2008</th>\n",
       "      <th>2011</th>\n",
       "      <th>2013</th>\n",
       "      <th>2016</th>\n",
       "      <th>2019</th>\n",
       "      <th>X_index</th>\n",
       "      <th>Y_index</th>\n",
       "    </tr>\n",
       "  </thead>\n",
       "  <tbody>\n",
       "    <tr>\n",
       "      <th>14834446</th>\n",
       "      <td>41</td>\n",
       "      <td>41</td>\n",
       "      <td>41</td>\n",
       "      <td>41</td>\n",
       "      <td>41</td>\n",
       "      <td>41</td>\n",
       "      <td>41</td>\n",
       "      <td>41</td>\n",
       "      <td>421</td>\n",
       "      <td>29981</td>\n",
       "    </tr>\n",
       "    <tr>\n",
       "      <th>14834447</th>\n",
       "      <td>41</td>\n",
       "      <td>41</td>\n",
       "      <td>41</td>\n",
       "      <td>41</td>\n",
       "      <td>41</td>\n",
       "      <td>41</td>\n",
       "      <td>41</td>\n",
       "      <td>41</td>\n",
       "      <td>421</td>\n",
       "      <td>29982</td>\n",
       "    </tr>\n",
       "    <tr>\n",
       "      <th>14834448</th>\n",
       "      <td>41</td>\n",
       "      <td>41</td>\n",
       "      <td>41</td>\n",
       "      <td>41</td>\n",
       "      <td>41</td>\n",
       "      <td>41</td>\n",
       "      <td>41</td>\n",
       "      <td>41</td>\n",
       "      <td>421</td>\n",
       "      <td>29983</td>\n",
       "    </tr>\n",
       "    <tr>\n",
       "      <th>14834449</th>\n",
       "      <td>41</td>\n",
       "      <td>41</td>\n",
       "      <td>41</td>\n",
       "      <td>41</td>\n",
       "      <td>41</td>\n",
       "      <td>41</td>\n",
       "      <td>41</td>\n",
       "      <td>41</td>\n",
       "      <td>421</td>\n",
       "      <td>29984</td>\n",
       "    </tr>\n",
       "    <tr>\n",
       "      <th>14834450</th>\n",
       "      <td>41</td>\n",
       "      <td>41</td>\n",
       "      <td>41</td>\n",
       "      <td>41</td>\n",
       "      <td>41</td>\n",
       "      <td>41</td>\n",
       "      <td>41</td>\n",
       "      <td>41</td>\n",
       "      <td>421</td>\n",
       "      <td>29985</td>\n",
       "    </tr>\n",
       "  </tbody>\n",
       "</table>\n",
       "</div>"
      ],
      "text/plain": [
       "          2001  2004  2006  2008  2011  2013  2016  2019  X_index  Y_index\n",
       "14834446    41    41    41    41    41    41    41    41      421    29981\n",
       "14834447    41    41    41    41    41    41    41    41      421    29982\n",
       "14834448    41    41    41    41    41    41    41    41      421    29983\n",
       "14834449    41    41    41    41    41    41    41    41      421    29984\n",
       "14834450    41    41    41    41    41    41    41    41      421    29985"
      ]
     },
     "execution_count": 21,
     "metadata": {},
     "output_type": "execute_result"
    }
   ],
   "source": [
    "# Use a boolean mask to filter out the rows where the land cover value of all years is 0\n",
    "conus_data = conus_data[(conus_data[years] != 0).any(axis=1)]\n",
    "conus_data.head()"
   ]
  },
  {
   "cell_type": "code",
   "execution_count": 22,
   "metadata": {},
   "outputs": [
    {
     "data": {
      "text/plain": [
       "(411365890, 10)"
      ]
     },
     "execution_count": 22,
     "metadata": {},
     "output_type": "execute_result"
    }
   ],
   "source": [
    "conus_data.shape"
   ]
  },
  {
   "cell_type": "markdown",
   "metadata": {},
   "source": [
    "### Next steps\n",
    "\n",
    "1. Feature engineering\n",
    "    - Distance away from developed land\n",
    "    - Distance away from water\n",
    "    - Etc..."
   ]
  },
  {
   "cell_type": "code",
   "execution_count": null,
   "metadata": {},
   "outputs": [],
   "source": []
  }
 ],
 "metadata": {
  "kernelspec": {
   "display_name": "Python 3",
   "language": "python",
   "name": "python3"
  },
  "language_info": {
   "codemirror_mode": {
    "name": "ipython",
    "version": 3
   },
   "file_extension": ".py",
   "mimetype": "text/x-python",
   "name": "python",
   "nbconvert_exporter": "python",
   "pygments_lexer": "ipython3",
   "version": "3.11.4"
  },
  "orig_nbformat": 4
 },
 "nbformat": 4,
 "nbformat_minor": 2
}
