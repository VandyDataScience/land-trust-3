{
 "cells": [
  {
   "cell_type": "markdown",
   "metadata": {},
   "source": [
    "# Processing CONUS data from all years"
   ]
  },
  {
   "cell_type": "code",
   "execution_count": 1,
   "metadata": {},
   "outputs": [],
   "source": [
    "import pandas as pd\n",
    "import numpy as np\n",
    "import rasterio"
   ]
  },
  {
   "cell_type": "markdown",
   "metadata": {},
   "source": [
    "## 1. Read in data from all years"
   ]
  },
  {
   "cell_type": "markdown",
   "metadata": {},
   "source": [
    "First, we will store the land cover value for each pixel in the raster in a dataframe, with each row being a pixel and the pixel's land cover value in different years in columns"
   ]
  },
  {
   "cell_type": "code",
   "execution_count": 2,
   "metadata": {},
   "outputs": [],
   "source": [
    "# Dataframe to hold the data from all years\n",
    "conus_data = pd.DataFrame()\n",
    "\n",
    "# Years of the data\n",
    "years = [\"2001\", \"2004\", \"2006\", \"2008\", \"2011\", \"2013\", \"2016\", \"2019\"]\n",
    "\n",
    "# Flatten the raster data for each year into a 1darray and store it as a column in the dataframe\n",
    "for year in years:\n",
    "    with rasterio.open(f\"./data/CONUS{year}_ClipAOI.tif\", \"r\") as ds:\n",
    "        data = ds.read(1)\n",
    "        conus_data[year] = data.ravel()"
   ]
  },
  {
   "cell_type": "markdown",
   "metadata": {},
   "source": [
    "Next, we need to store the x and y coordinates of each pixel into the dataframe"
   ]
  },
  {
   "cell_type": "code",
   "execution_count": 8,
   "metadata": {},
   "outputs": [
    {
     "data": {
      "text/plain": [
       "(array([[    0,     0,     0, ...,     0,     0,     0],\n",
       "        [    1,     1,     1, ...,     1,     1,     1],\n",
       "        [    2,     2,     2, ...,     2,     2,     2],\n",
       "        ...,\n",
       "        [17972, 17972, 17972, ..., 17972, 17972, 17972],\n",
       "        [17973, 17973, 17973, ..., 17973, 17973, 17973],\n",
       "        [17974, 17974, 17974, ..., 17974, 17974, 17974]]),\n",
       " array([[    0,     1,     2, ..., 35162, 35163, 35164],\n",
       "        [    0,     1,     2, ..., 35162, 35163, 35164],\n",
       "        [    0,     1,     2, ..., 35162, 35163, 35164],\n",
       "        ...,\n",
       "        [    0,     1,     2, ..., 35162, 35163, 35164],\n",
       "        [    0,     1,     2, ..., 35162, 35163, 35164],\n",
       "        [    0,     1,     2, ..., 35162, 35163, 35164]]))"
      ]
     },
     "execution_count": 8,
     "metadata": {},
     "output_type": "execute_result"
    }
   ],
   "source": [
    "with rasterio.open(\"./data/CONUS2019_ClipAOI.tif\", \"r\") as ds:\n",
    "    data = ds.read(1)\n",
    "    conus_data[\"2019\"] = data.ravel()\n",
    "\n",
    "    height = data.shape[0]\n",
    "    width = data.shape[1]\n",
    "\n",
    "    # Create a 2d array for X and Y indices\n",
    "    cols, rows = np.meshgrid(np.arange(width), np.arange(height))\n",
    "\n",
    "    # The following code gets the x and y coordinates of each pixel instead of the x y indices, which may be useful afterwards\n",
    "    # xs, ys = rasterio.transform.xy(ds.transform, rows, cols)\n",
    "    # xcoords = np.array(xs)\n",
    "    # ycoords = np.array(ys)\n",
    "\n",
    "rows, cols"
   ]
  },
  {
   "cell_type": "code",
   "execution_count": 6,
   "metadata": {},
   "outputs": [
    {
     "data": {
      "text/html": [
       "<div>\n",
       "<style scoped>\n",
       "    .dataframe tbody tr th:only-of-type {\n",
       "        vertical-align: middle;\n",
       "    }\n",
       "\n",
       "    .dataframe tbody tr th {\n",
       "        vertical-align: top;\n",
       "    }\n",
       "\n",
       "    .dataframe thead th {\n",
       "        text-align: right;\n",
       "    }\n",
       "</style>\n",
       "<table border=\"1\" class=\"dataframe\">\n",
       "  <thead>\n",
       "    <tr style=\"text-align: right;\">\n",
       "      <th></th>\n",
       "      <th>2001</th>\n",
       "      <th>2004</th>\n",
       "      <th>2006</th>\n",
       "      <th>2008</th>\n",
       "      <th>2011</th>\n",
       "      <th>2013</th>\n",
       "      <th>2016</th>\n",
       "      <th>2019</th>\n",
       "      <th>X_index</th>\n",
       "      <th>Y_index</th>\n",
       "    </tr>\n",
       "  </thead>\n",
       "  <tbody>\n",
       "    <tr>\n",
       "      <th>0</th>\n",
       "      <td>0</td>\n",
       "      <td>0</td>\n",
       "      <td>0</td>\n",
       "      <td>0</td>\n",
       "      <td>0</td>\n",
       "      <td>0</td>\n",
       "      <td>0</td>\n",
       "      <td>0</td>\n",
       "      <td>0</td>\n",
       "      <td>0</td>\n",
       "    </tr>\n",
       "    <tr>\n",
       "      <th>1</th>\n",
       "      <td>0</td>\n",
       "      <td>0</td>\n",
       "      <td>0</td>\n",
       "      <td>0</td>\n",
       "      <td>0</td>\n",
       "      <td>0</td>\n",
       "      <td>0</td>\n",
       "      <td>0</td>\n",
       "      <td>0</td>\n",
       "      <td>1</td>\n",
       "    </tr>\n",
       "    <tr>\n",
       "      <th>2</th>\n",
       "      <td>0</td>\n",
       "      <td>0</td>\n",
       "      <td>0</td>\n",
       "      <td>0</td>\n",
       "      <td>0</td>\n",
       "      <td>0</td>\n",
       "      <td>0</td>\n",
       "      <td>0</td>\n",
       "      <td>0</td>\n",
       "      <td>2</td>\n",
       "    </tr>\n",
       "    <tr>\n",
       "      <th>3</th>\n",
       "      <td>0</td>\n",
       "      <td>0</td>\n",
       "      <td>0</td>\n",
       "      <td>0</td>\n",
       "      <td>0</td>\n",
       "      <td>0</td>\n",
       "      <td>0</td>\n",
       "      <td>0</td>\n",
       "      <td>0</td>\n",
       "      <td>3</td>\n",
       "    </tr>\n",
       "    <tr>\n",
       "      <th>4</th>\n",
       "      <td>0</td>\n",
       "      <td>0</td>\n",
       "      <td>0</td>\n",
       "      <td>0</td>\n",
       "      <td>0</td>\n",
       "      <td>0</td>\n",
       "      <td>0</td>\n",
       "      <td>0</td>\n",
       "      <td>0</td>\n",
       "      <td>4</td>\n",
       "    </tr>\n",
       "  </tbody>\n",
       "</table>\n",
       "</div>"
      ],
      "text/plain": [
       "   2001  2004  2006  2008  2011  2013  2016  2019  X_index  Y_index\n",
       "0     0     0     0     0     0     0     0     0        0        0\n",
       "1     0     0     0     0     0     0     0     0        0        1\n",
       "2     0     0     0     0     0     0     0     0        0        2\n",
       "3     0     0     0     0     0     0     0     0        0        3\n",
       "4     0     0     0     0     0     0     0     0        0        4"
      ]
     },
     "execution_count": 6,
     "metadata": {},
     "output_type": "execute_result"
    }
   ],
   "source": [
    "# Flatten the indices 2d arrays and add them as columns in the dataframe\n",
    "conus_data[\"X_index\"] = rows.ravel()\n",
    "conus_data[\"Y_index\"] = cols.ravel()\n",
    "\n",
    "\n",
    "\n",
    "conus_data.head()"
   ]
  },
  {
   "cell_type": "code",
   "execution_count": 10,
   "metadata": {},
   "outputs": [
    {
     "data": {
      "text/html": [
       "<div>\n",
       "<style scoped>\n",
       "    .dataframe tbody tr th:only-of-type {\n",
       "        vertical-align: middle;\n",
       "    }\n",
       "\n",
       "    .dataframe tbody tr th {\n",
       "        vertical-align: top;\n",
       "    }\n",
       "\n",
       "    .dataframe thead th {\n",
       "        text-align: right;\n",
       "    }\n",
       "</style>\n",
       "<table border=\"1\" class=\"dataframe\">\n",
       "  <thead>\n",
       "    <tr style=\"text-align: right;\">\n",
       "      <th></th>\n",
       "      <th>2001</th>\n",
       "      <th>2004</th>\n",
       "      <th>2006</th>\n",
       "      <th>2008</th>\n",
       "      <th>2011</th>\n",
       "      <th>2013</th>\n",
       "      <th>2016</th>\n",
       "      <th>2019</th>\n",
       "      <th>X_index</th>\n",
       "      <th>Y_index</th>\n",
       "    </tr>\n",
       "  </thead>\n",
       "  <tbody>\n",
       "    <tr>\n",
       "      <th>158198349</th>\n",
       "      <td>43</td>\n",
       "      <td>41</td>\n",
       "      <td>43</td>\n",
       "      <td>41</td>\n",
       "      <td>43</td>\n",
       "      <td>41</td>\n",
       "      <td>41</td>\n",
       "      <td>41</td>\n",
       "      <td>4498</td>\n",
       "      <td>26179</td>\n",
       "    </tr>\n",
       "    <tr>\n",
       "      <th>583688635</th>\n",
       "      <td>0</td>\n",
       "      <td>0</td>\n",
       "      <td>0</td>\n",
       "      <td>0</td>\n",
       "      <td>0</td>\n",
       "      <td>0</td>\n",
       "      <td>0</td>\n",
       "      <td>0</td>\n",
       "      <td>16598</td>\n",
       "      <td>19965</td>\n",
       "    </tr>\n",
       "    <tr>\n",
       "      <th>103173727</th>\n",
       "      <td>0</td>\n",
       "      <td>0</td>\n",
       "      <td>0</td>\n",
       "      <td>0</td>\n",
       "      <td>0</td>\n",
       "      <td>0</td>\n",
       "      <td>0</td>\n",
       "      <td>0</td>\n",
       "      <td>2933</td>\n",
       "      <td>34782</td>\n",
       "    </tr>\n",
       "    <tr>\n",
       "      <th>252533028</th>\n",
       "      <td>41</td>\n",
       "      <td>81</td>\n",
       "      <td>41</td>\n",
       "      <td>81</td>\n",
       "      <td>41</td>\n",
       "      <td>81</td>\n",
       "      <td>41</td>\n",
       "      <td>81</td>\n",
       "      <td>7181</td>\n",
       "      <td>13163</td>\n",
       "    </tr>\n",
       "    <tr>\n",
       "      <th>370713741</th>\n",
       "      <td>82</td>\n",
       "      <td>82</td>\n",
       "      <td>82</td>\n",
       "      <td>82</td>\n",
       "      <td>82</td>\n",
       "      <td>82</td>\n",
       "      <td>82</td>\n",
       "      <td>82</td>\n",
       "      <td>10542</td>\n",
       "      <td>4311</td>\n",
       "    </tr>\n",
       "  </tbody>\n",
       "</table>\n",
       "</div>"
      ],
      "text/plain": [
       "           2001  2004  2006  2008  2011  2013  2016  2019  X_index  Y_index\n",
       "158198349    43    41    43    41    43    41    41    41     4498    26179\n",
       "583688635     0     0     0     0     0     0     0     0    16598    19965\n",
       "103173727     0     0     0     0     0     0     0     0     2933    34782\n",
       "252533028    41    81    41    81    41    81    41    81     7181    13163\n",
       "370713741    82    82    82    82    82    82    82    82    10542     4311"
      ]
     },
     "execution_count": 10,
     "metadata": {},
     "output_type": "execute_result"
    }
   ],
   "source": [
    "# Test if indices match the pixels correctly\n",
    "conus_data.sample(5)"
   ]
  },
  {
   "cell_type": "markdown",
   "metadata": {},
   "source": [
    "### Next steps\n",
    "\n",
    "1. Drop rows with value 0, having problems because dataset is too large\n",
    "2. Feature engineering"
   ]
  },
  {
   "cell_type": "code",
   "execution_count": null,
   "metadata": {},
   "outputs": [],
   "source": []
  }
 ],
 "metadata": {
  "kernelspec": {
   "display_name": "Python 3",
   "language": "python",
   "name": "python3"
  },
  "language_info": {
   "codemirror_mode": {
    "name": "ipython",
    "version": 3
   },
   "file_extension": ".py",
   "mimetype": "text/x-python",
   "name": "python",
   "nbconvert_exporter": "python",
   "pygments_lexer": "ipython3",
   "version": "3.11.4"
  },
  "orig_nbformat": 4
 },
 "nbformat": 4,
 "nbformat_minor": 2
}
